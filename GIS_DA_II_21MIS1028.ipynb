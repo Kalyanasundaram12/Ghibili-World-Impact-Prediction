{
  "cells": [
    {
      "cell_type": "code",
      "source": [
        "from google.colab import drive\n",
        "drive.mount('/content/drive')\n"
      ],
      "metadata": {
        "colab": {
          "base_uri": "https://localhost:8080/"
        },
        "id": "2VKKfHemK1Tl",
        "outputId": "2a8c8436-6e8e-48e5-b5eb-173923778049"
      },
      "id": "2VKKfHemK1Tl",
      "execution_count": 10,
      "outputs": [
        {
          "output_type": "stream",
          "name": "stdout",
          "text": [
            "Drive already mounted at /content/drive; to attempt to forcibly remount, call drive.mount(\"/content/drive\", force_remount=True).\n"
          ]
        }
      ]
    },
    {
      "cell_type": "code",
      "execution_count": 2,
      "id": "e2aa6460-6a75-4718-99ef-1b441701865a",
      "metadata": {
        "colab": {
          "base_uri": "https://localhost:8080/"
        },
        "id": "e2aa6460-6a75-4718-99ef-1b441701865a",
        "outputId": "a36363e7-de72-44b2-ba36-54e2b0b4dabc"
      },
      "outputs": [
        {
          "output_type": "stream",
          "name": "stdout",
          "text": [
            "Requirement already satisfied: tweepy in /usr/local/lib/python3.11/dist-packages (4.15.0)\n",
            "Requirement already satisfied: pandas in /usr/local/lib/python3.11/dist-packages (2.2.2)\n",
            "Requirement already satisfied: oauthlib<4,>=3.2.0 in /usr/local/lib/python3.11/dist-packages (from tweepy) (3.2.2)\n",
            "Requirement already satisfied: requests<3,>=2.27.0 in /usr/local/lib/python3.11/dist-packages (from tweepy) (2.32.3)\n",
            "Requirement already satisfied: requests-oauthlib<3,>=1.2.0 in /usr/local/lib/python3.11/dist-packages (from tweepy) (2.0.0)\n",
            "Requirement already satisfied: numpy>=1.23.2 in /usr/local/lib/python3.11/dist-packages (from pandas) (2.0.2)\n",
            "Requirement already satisfied: python-dateutil>=2.8.2 in /usr/local/lib/python3.11/dist-packages (from pandas) (2.8.2)\n",
            "Requirement already satisfied: pytz>=2020.1 in /usr/local/lib/python3.11/dist-packages (from pandas) (2025.2)\n",
            "Requirement already satisfied: tzdata>=2022.7 in /usr/local/lib/python3.11/dist-packages (from pandas) (2025.2)\n",
            "Requirement already satisfied: six>=1.5 in /usr/local/lib/python3.11/dist-packages (from python-dateutil>=2.8.2->pandas) (1.17.0)\n",
            "Requirement already satisfied: charset-normalizer<4,>=2 in /usr/local/lib/python3.11/dist-packages (from requests<3,>=2.27.0->tweepy) (3.4.1)\n",
            "Requirement already satisfied: idna<4,>=2.5 in /usr/local/lib/python3.11/dist-packages (from requests<3,>=2.27.0->tweepy) (3.10)\n",
            "Requirement already satisfied: urllib3<3,>=1.21.1 in /usr/local/lib/python3.11/dist-packages (from requests<3,>=2.27.0->tweepy) (2.3.0)\n",
            "Requirement already satisfied: certifi>=2017.4.17 in /usr/local/lib/python3.11/dist-packages (from requests<3,>=2.27.0->tweepy) (2025.1.31)\n"
          ]
        }
      ],
      "source": [
        "pip install tweepy pandas\n"
      ]
    },
    {
      "cell_type": "code",
      "execution_count": 3,
      "id": "db7e7e56-b4bb-4aab-a1a4-1eb624336a36",
      "metadata": {
        "colab": {
          "base_uri": "https://localhost:8080/"
        },
        "id": "db7e7e56-b4bb-4aab-a1a4-1eb624336a36",
        "outputId": "0f7e3524-7814-49a7-cecd-5454b2527561"
      },
      "outputs": [
        {
          "output_type": "stream",
          "name": "stdout",
          "text": [
            "Collecting snscrape\n",
            "  Downloading snscrape-0.7.0.20230622-py3-none-any.whl.metadata (4.9 kB)\n",
            "Requirement already satisfied: requests[socks] in /usr/local/lib/python3.11/dist-packages (from snscrape) (2.32.3)\n",
            "Requirement already satisfied: lxml in /usr/local/lib/python3.11/dist-packages (from snscrape) (5.3.1)\n",
            "Requirement already satisfied: beautifulsoup4 in /usr/local/lib/python3.11/dist-packages (from snscrape) (4.13.3)\n",
            "Requirement already satisfied: filelock in /usr/local/lib/python3.11/dist-packages (from snscrape) (3.18.0)\n",
            "Requirement already satisfied: soupsieve>1.2 in /usr/local/lib/python3.11/dist-packages (from beautifulsoup4->snscrape) (2.6)\n",
            "Requirement already satisfied: typing-extensions>=4.0.0 in /usr/local/lib/python3.11/dist-packages (from beautifulsoup4->snscrape) (4.13.0)\n",
            "Requirement already satisfied: charset-normalizer<4,>=2 in /usr/local/lib/python3.11/dist-packages (from requests[socks]->snscrape) (3.4.1)\n",
            "Requirement already satisfied: idna<4,>=2.5 in /usr/local/lib/python3.11/dist-packages (from requests[socks]->snscrape) (3.10)\n",
            "Requirement already satisfied: urllib3<3,>=1.21.1 in /usr/local/lib/python3.11/dist-packages (from requests[socks]->snscrape) (2.3.0)\n",
            "Requirement already satisfied: certifi>=2017.4.17 in /usr/local/lib/python3.11/dist-packages (from requests[socks]->snscrape) (2025.1.31)\n",
            "Requirement already satisfied: PySocks!=1.5.7,>=1.5.6 in /usr/local/lib/python3.11/dist-packages (from requests[socks]->snscrape) (1.7.1)\n",
            "Downloading snscrape-0.7.0.20230622-py3-none-any.whl (74 kB)\n",
            "\u001b[?25l   \u001b[90m━━━━━━━━━━━━━━━━━━━━━━━━━━━━━━━━━━━━━━━━\u001b[0m \u001b[32m0.0/74.8 kB\u001b[0m \u001b[31m?\u001b[0m eta \u001b[36m-:--:--\u001b[0m\r\u001b[2K   \u001b[90m━━━━━━━━━━━━━━━━━━━━━━━━━━━━━━━━━━━━━━━━\u001b[0m \u001b[32m74.8/74.8 kB\u001b[0m \u001b[31m3.3 MB/s\u001b[0m eta \u001b[36m0:00:00\u001b[0m\n",
            "\u001b[?25hInstalling collected packages: snscrape\n",
            "Successfully installed snscrape-0.7.0.20230622\n"
          ]
        }
      ],
      "source": [
        "pip install snscrape\n"
      ]
    },
    {
      "cell_type": "code",
      "execution_count": 4,
      "id": "9245007d-5849-403c-9993-12f43195c189",
      "metadata": {
        "colab": {
          "base_uri": "https://localhost:8080/"
        },
        "id": "9245007d-5849-403c-9993-12f43195c189",
        "outputId": "63e81636-b242-4d8a-e3e3-8ca11b62c0c7"
      },
      "outputs": [
        {
          "output_type": "stream",
          "name": "stdout",
          "text": [
            "Requirement already satisfied: snscrape in /usr/local/lib/python3.11/dist-packages (0.7.0.20230622)\n",
            "Requirement already satisfied: requests[socks] in /usr/local/lib/python3.11/dist-packages (from snscrape) (2.32.3)\n",
            "Requirement already satisfied: lxml in /usr/local/lib/python3.11/dist-packages (from snscrape) (5.3.1)\n",
            "Requirement already satisfied: beautifulsoup4 in /usr/local/lib/python3.11/dist-packages (from snscrape) (4.13.3)\n",
            "Requirement already satisfied: filelock in /usr/local/lib/python3.11/dist-packages (from snscrape) (3.18.0)\n",
            "Requirement already satisfied: soupsieve>1.2 in /usr/local/lib/python3.11/dist-packages (from beautifulsoup4->snscrape) (2.6)\n",
            "Requirement already satisfied: typing-extensions>=4.0.0 in /usr/local/lib/python3.11/dist-packages (from beautifulsoup4->snscrape) (4.13.0)\n",
            "Requirement already satisfied: charset-normalizer<4,>=2 in /usr/local/lib/python3.11/dist-packages (from requests[socks]->snscrape) (3.4.1)\n",
            "Requirement already satisfied: idna<4,>=2.5 in /usr/local/lib/python3.11/dist-packages (from requests[socks]->snscrape) (3.10)\n",
            "Requirement already satisfied: urllib3<3,>=1.21.1 in /usr/local/lib/python3.11/dist-packages (from requests[socks]->snscrape) (2.3.0)\n",
            "Requirement already satisfied: certifi>=2017.4.17 in /usr/local/lib/python3.11/dist-packages (from requests[socks]->snscrape) (2025.1.31)\n",
            "Requirement already satisfied: PySocks!=1.5.7,>=1.5.6 in /usr/local/lib/python3.11/dist-packages (from requests[socks]->snscrape) (1.7.1)\n"
          ]
        }
      ],
      "source": [
        "pip install --upgrade snscrape\n"
      ]
    },
    {
      "cell_type": "code",
      "execution_count": 5,
      "id": "bc1f9a3d-d91d-41c9-bf47-df82113a45e3",
      "metadata": {
        "colab": {
          "base_uri": "https://localhost:8080/"
        },
        "id": "bc1f9a3d-d91d-41c9-bf47-df82113a45e3",
        "outputId": "f33912ca-9f6a-4b1d-d38e-956633fb2cb0"
      },
      "outputs": [
        {
          "output_type": "stream",
          "name": "stdout",
          "text": [
            "Requirement already satisfied: snscrape in /usr/local/lib/python3.11/dist-packages (0.7.0.20230622)\n",
            "Requirement already satisfied: geopy in /usr/local/lib/python3.11/dist-packages (2.4.1)\n",
            "Requirement already satisfied: pandas in /usr/local/lib/python3.11/dist-packages (2.2.2)\n",
            "Requirement already satisfied: requests[socks] in /usr/local/lib/python3.11/dist-packages (from snscrape) (2.32.3)\n",
            "Requirement already satisfied: lxml in /usr/local/lib/python3.11/dist-packages (from snscrape) (5.3.1)\n",
            "Requirement already satisfied: beautifulsoup4 in /usr/local/lib/python3.11/dist-packages (from snscrape) (4.13.3)\n",
            "Requirement already satisfied: filelock in /usr/local/lib/python3.11/dist-packages (from snscrape) (3.18.0)\n",
            "Requirement already satisfied: geographiclib<3,>=1.52 in /usr/local/lib/python3.11/dist-packages (from geopy) (2.0)\n",
            "Requirement already satisfied: numpy>=1.23.2 in /usr/local/lib/python3.11/dist-packages (from pandas) (2.0.2)\n",
            "Requirement already satisfied: python-dateutil>=2.8.2 in /usr/local/lib/python3.11/dist-packages (from pandas) (2.8.2)\n",
            "Requirement already satisfied: pytz>=2020.1 in /usr/local/lib/python3.11/dist-packages (from pandas) (2025.2)\n",
            "Requirement already satisfied: tzdata>=2022.7 in /usr/local/lib/python3.11/dist-packages (from pandas) (2025.2)\n",
            "Requirement already satisfied: six>=1.5 in /usr/local/lib/python3.11/dist-packages (from python-dateutil>=2.8.2->pandas) (1.17.0)\n",
            "Requirement already satisfied: soupsieve>1.2 in /usr/local/lib/python3.11/dist-packages (from beautifulsoup4->snscrape) (2.6)\n",
            "Requirement already satisfied: typing-extensions>=4.0.0 in /usr/local/lib/python3.11/dist-packages (from beautifulsoup4->snscrape) (4.13.0)\n",
            "Requirement already satisfied: charset-normalizer<4,>=2 in /usr/local/lib/python3.11/dist-packages (from requests[socks]->snscrape) (3.4.1)\n",
            "Requirement already satisfied: idna<4,>=2.5 in /usr/local/lib/python3.11/dist-packages (from requests[socks]->snscrape) (3.10)\n",
            "Requirement already satisfied: urllib3<3,>=1.21.1 in /usr/local/lib/python3.11/dist-packages (from requests[socks]->snscrape) (2.3.0)\n",
            "Requirement already satisfied: certifi>=2017.4.17 in /usr/local/lib/python3.11/dist-packages (from requests[socks]->snscrape) (2025.1.31)\n",
            "Requirement already satisfied: PySocks!=1.5.7,>=1.5.6 in /usr/local/lib/python3.11/dist-packages (from requests[socks]->snscrape) (1.7.1)\n"
          ]
        }
      ],
      "source": [
        "pip install snscrape geopy pandas\n"
      ]
    },
    {
      "cell_type": "code",
      "execution_count": 7,
      "id": "b28ba8b2-8202-4b63-a954-6e67be9593be",
      "metadata": {
        "colab": {
          "base_uri": "https://localhost:8080/"
        },
        "id": "b28ba8b2-8202-4b63-a954-6e67be9593be",
        "outputId": "1657a53f-9d81-4af7-f310-0090424c269e"
      },
      "outputs": [
        {
          "output_type": "stream",
          "name": "stdout",
          "text": [
            "2025-04-05 13:41:55.236  ERROR  snscrape.base  Error retrieving https://twitter.com/search?f=live&lang=en&q=%23ghibli+since%3A2023-01-01+until%3A2025-04-01&src=spelling_expansion_revert_click: SSLError(MaxRetryError(\"HTTPSConnectionPool(host='twitter.com', port=443): Max retries exceeded with url: /search?f=live&lang=en&q=%23ghibli+since%3A2023-01-01+until%3A2025-04-01&src=spelling_expansion_revert_click (Caused by SSLError(SSLCertVerificationError(1, '[SSL: CERTIFICATE_VERIFY_FAILED] certificate verify failed: unable to get local issuer certificate (_ssl.c:1006)')))\"))\n",
            "2025-04-05 13:41:55.236  CRITICAL  snscrape.base  4 requests to https://twitter.com/search?f=live&lang=en&q=%23ghibli+since%3A2023-01-01+until%3A2025-04-01&src=spelling_expansion_revert_click failed, giving up.\n",
            "2025-04-05 13:41:55.236  CRITICAL  snscrape.base  Errors: SSLError(MaxRetryError(\"HTTPSConnectionPool(host='twitter.com', port=443): Max retries exceeded with url: /search?f=live&lang=en&q=%23ghibli+since%3A2023-01-01+until%3A2025-04-01&src=spelling_expansion_revert_click (Caused by SSLError(SSLCertVerificationError(1, '[SSL: CERTIFICATE_VERIFY_FAILED] certificate verify failed: unable to get local issuer certificate (_ssl.c:1006)')))\")), SSLError(MaxRetryError(\"HTTPSConnectionPool(host='twitter.com', port=443): Max retries exceeded with url: /search?f=live&lang=en&q=%23ghibli+since%3A2023-01-01+until%3A2025-04-01&src=spelling_expansion_revert_click (Caused by SSLError(SSLCertVerificationError(1, '[SSL: CERTIFICATE_VERIFY_FAILED] certificate verify failed: unable to get local issuer certificate (_ssl.c:1006)')))\")), SSLError(MaxRetryError(\"HTTPSConnectionPool(host='twitter.com', port=443): Max retries exceeded with url: /search?f=live&lang=en&q=%23ghibli+since%3A2023-01-01+until%3A2025-04-01&src=spelling_expansion_revert_click (Caused by SSLError(SSLCertVerificationError(1, '[SSL: CERTIFICATE_VERIFY_FAILED] certificate verify failed: unable to get local issuer certificate (_ssl.c:1006)')))\")), SSLError(MaxRetryError(\"HTTPSConnectionPool(host='twitter.com', port=443): Max retries exceeded with url: /search?f=live&lang=en&q=%23ghibli+since%3A2023-01-01+until%3A2025-04-01&src=spelling_expansion_revert_click (Caused by SSLError(SSLCertVerificationError(1, '[SSL: CERTIFICATE_VERIFY_FAILED] certificate verify failed: unable to get local issuer certificate (_ssl.c:1006)')))\"))\n",
            "2025-04-05 13:41:55.269  CRITICAL  snscrape._cli  Dumped stack and locals to /tmp/snscrape_locals_4dbhnoic\n",
            "Traceback (most recent call last):\n",
            "  File \"/usr/local/bin/snscrape\", line 8, in <module>\n",
            "    sys.exit(main())\n",
            "             ^^^^^^\n",
            "  File \"/usr/local/lib/python3.11/dist-packages/snscrape/_cli.py\", line 323, in main\n",
            "    for i, item in enumerate(scraper.get_items(), start = 1):\n",
            "  File \"/usr/local/lib/python3.11/dist-packages/snscrape/modules/twitter.py\", line 1763, in get_items\n",
            "    for obj in self._iter_api_data('https://twitter.com/i/api/graphql/7jT5GT59P8IFjgxwqnEdQw/SearchTimeline', _TwitterAPIType.GRAPHQL, params, paginationParams, cursor = self._cursor, instructionsPath = ['data', 'search_by_raw_query', 'search_timeline', 'timeline', 'instructions']):\n",
            "  File \"/usr/local/lib/python3.11/dist-packages/snscrape/modules/twitter.py\", line 915, in _iter_api_data\n",
            "    obj = self._get_api_data(endpoint, apiType, reqParams, instructionsPath = instructionsPath)\n",
            "          ^^^^^^^^^^^^^^^^^^^^^^^^^^^^^^^^^^^^^^^^^^^^^^^^^^^^^^^^^^^^^^^^^^^^^^^^^^^^^^^^^^^^^\n",
            "  File \"/usr/local/lib/python3.11/dist-packages/snscrape/modules/twitter.py\", line 883, in _get_api_data\n",
            "    self._ensure_guest_token()\n",
            "  File \"/usr/local/lib/python3.11/dist-packages/snscrape/modules/twitter.py\", line 825, in _ensure_guest_token\n",
            "    r = self._get(self._baseUrl if url is None else url, responseOkCallback = self._check_guest_token_response)\n",
            "        ^^^^^^^^^^^^^^^^^^^^^^^^^^^^^^^^^^^^^^^^^^^^^^^^^^^^^^^^^^^^^^^^^^^^^^^^^^^^^^^^^^^^^^^^^^^^^^^^^^^^^^^\n",
            "  File \"/usr/local/lib/python3.11/dist-packages/snscrape/base.py\", line 275, in _get\n",
            "    return self._request('GET', *args, **kwargs)\n",
            "           ^^^^^^^^^^^^^^^^^^^^^^^^^^^^^^^^^^^^^\n",
            "  File \"/usr/local/lib/python3.11/dist-packages/snscrape/base.py\", line 271, in _request\n",
            "    raise ScraperException(msg)\n",
            "snscrape.base.ScraperException: 4 requests to https://twitter.com/search?f=live&lang=en&q=%23ghibli+since%3A2023-01-01+until%3A2025-04-01&src=spelling_expansion_revert_click failed, giving up.\n"
          ]
        }
      ],
      "source": [
        "!snscrape --jsonl twitter-search \"#ghibli since:2023-01-01 until:2025-04-01\" > ghibli.json\n"
      ]
    },
    {
      "cell_type": "code",
      "execution_count": 11,
      "id": "dfff546c-e6b5-4d96-9a08-107544ec4834",
      "metadata": {
        "colab": {
          "base_uri": "https://localhost:8080/"
        },
        "id": "dfff546c-e6b5-4d96-9a08-107544ec4834",
        "outputId": "75677f71-1845-47cf-91d2-1fd11d635cf9"
      },
      "outputs": [
        {
          "output_type": "stream",
          "name": "stdout",
          "text": [
            "Dataset Overview:\n",
            "<class 'pandas.core.frame.DataFrame'>\n",
            "RangeIndex: 100 entries, 0 to 99\n",
            "Data columns (total 7 columns):\n",
            " #   Column       Non-Null Count  Dtype  \n",
            "---  ------       --------------  -----  \n",
            " 0   username     100 non-null    object \n",
            " 1   displayName  100 non-null    object \n",
            " 2   content      100 non-null    object \n",
            " 3   date         100 non-null    object \n",
            " 4   latitude     100 non-null    float64\n",
            " 5   longitude    100 non-null    float64\n",
            " 6   tweet_url    100 non-null    object \n",
            "dtypes: float64(2), object(5)\n",
            "memory usage: 5.6+ KB\n",
            "None\n",
            "\n",
            "First 5 rows:\n",
            "        username            displayName  \\\n",
            "0   GhibliFan123    Studio Ghibli Lover   \n",
            "1    ArtOfGhibli  Ghibli Art Enthusiast   \n",
            "2   AnimeJourney  Journey Through Anime   \n",
            "3   SpiritedSoul       Miyazaki Fanatic   \n",
            "4  GhibliDreamer       Dreams of Ghibli   \n",
            "\n",
            "                                             content                  date  \\\n",
            "0   Rewatching Spirited Away tonight! #ghibli #anime  2025-03-01T15:30:00Z   \n",
            "1  The backgrounds in Howl’s Moving Castle are pu...  2025-03-01T20:15:00Z   \n",
            "2  Totoro is the ultimate comfort watch. #ghibli ...  2025-03-02T09:45:00Z   \n",
            "3  Princess Mononoke’s forest scenes are breathta...  2025-03-02T14:20:00Z   \n",
            "4  Kiki’s Delivery Service is so underrated! #ghibli  2025-03-03T11:10:00Z   \n",
            "\n",
            "   latitude  longitude                                          tweet_url  \n",
            "0   35.6762   139.6503  https://twitter.com/GhibliFan123/status/123456...  \n",
            "1    0.0000     0.0000  https://twitter.com/ArtOfGhibli/status/9876543...  \n",
            "2   36.7783  -119.4179  https://twitter.com/AnimeJourney/status/567890...  \n",
            "3   51.5074    -0.1278  https://twitter.com/SpiritedSoul/status/456789...  \n",
            "4  -33.8688   151.2093  https://twitter.com/GhibliDreamer/status/34567...  \n",
            "\n",
            "Number of tweets per unique location:\n",
            "    latitude  longitude  count\n",
            "0   -34.6037   -58.3816      8\n",
            "1   -33.9249    18.4241      9\n",
            "2   -33.8688   151.2093      1\n",
            "3   -23.5505   -46.6333      9\n",
            "4     0.0000     0.0000     13\n",
            "5    19.0760    72.8777      9\n",
            "6    19.4326   -99.1332      9\n",
            "7    21.3069  -157.8584      1\n",
            "8    25.7617   -80.1918      1\n",
            "9    30.2672   -97.7431      1\n",
            "10   34.6937   135.5023      1\n",
            "11   35.0116   135.7681      1\n",
            "12   35.6762   139.6503      1\n",
            "13   36.7783  -119.4179      1\n",
            "14   37.5665   126.9780      1\n",
            "15   39.9042   116.4074      8\n",
            "16   40.4168    -3.7038      1\n",
            "17   40.7128   -74.0060      1\n",
            "18   41.8781   -87.6298      1\n",
            "19   41.9028    12.4964      1\n",
            "20   43.0703   141.3508      1\n",
            "21   43.6532   -79.3832      1\n",
            "22   48.8566     2.3522      1\n",
            "23   49.2827  -123.1207      1\n",
            "24   51.5074    -0.1278      1\n",
            "25   52.5200    13.4050      1\n",
            "26   55.7558    37.6173      8\n",
            "27   59.3293    18.0686      8\n",
            "✅ Interactive map saved successfully at:\n",
            "/content/drive/MyDrive/GIS/ghibli_tweets_map.html\n",
            "Open the HTML file in a web browser to view the map!\n"
          ]
        }
      ],
      "source": [
        "import pandas as pd\n",
        "import folium\n",
        "from folium.plugins import MarkerCluster\n",
        "\n",
        "# Load the dataset\n",
        "file_path = \"/content/drive/MyDrive/GIS/ghibli_tweets_latlong_full.csv\"\n",
        "df = pd.read_csv(file_path)\n",
        "\n",
        "# Basic analysis of the dataset\n",
        "print(\"Dataset Overview:\")\n",
        "print(df.info())\n",
        "print(\"\\nFirst 5 rows:\")\n",
        "print(df.head())\n",
        "print(\"\\nNumber of tweets per unique location:\")\n",
        "print(df.groupby(['latitude', 'longitude']).size().reset_index(name='count'))\n",
        "\n",
        "# Create a base map centered on the world\n",
        "m = folium.Map(location=[20, 0], zoom_start=2)  # Centered roughly on the globe\n",
        "\n",
        "# Add a marker cluster to handle multiple markers efficiently\n",
        "marker_cluster = MarkerCluster().add_to(m)\n",
        "\n",
        "# Add markers for each tweet\n",
        "for index, row in df.iterrows():\n",
        "    # Skip entries with lat/long as 0,0 (Not specified)\n",
        "    if row['latitude'] == 0 and row['longitude'] == 0:\n",
        "        continue\n",
        "\n",
        "    # Create popup content\n",
        "    popup_content = f\"\"\"\n",
        "    <b>Username:</b> {row['username']}<br>\n",
        "    <b>Comment:</b> {row['content']}<br>\n",
        "    <b>Date:</b> {row['date']}\n",
        "    \"\"\"\n",
        "\n",
        "    # Add marker to the map\n",
        "    folium.Marker(\n",
        "        location=[row['latitude'], row['longitude']],\n",
        "        popup=popup_content,\n",
        "        tooltip=row['username']  # Shows username on hover\n",
        "    ).add_to(marker_cluster)\n",
        "\n",
        "# Save the map as an HTML file\n",
        "map_path = \"/content/drive/MyDrive/GIS/ghibli_tweets_map.html\"\n",
        "m.save(map_path)\n",
        "\n",
        "print(f\"✅ Interactive map saved successfully at:\\n{map_path}\")\n",
        "print(\"Open the HTML file in a web browser to view the map!\")"
      ]
    },
    {
      "cell_type": "code",
      "execution_count": null,
      "id": "4307d6fa-101c-4c80-b410-4bcdf0e4f889",
      "metadata": {
        "id": "4307d6fa-101c-4c80-b410-4bcdf0e4f889"
      },
      "outputs": [],
      "source": []
    }
  ],
  "metadata": {
    "kernelspec": {
      "display_name": "Python 3 (ipykernel)",
      "language": "python",
      "name": "python3"
    },
    "language_info": {
      "codemirror_mode": {
        "name": "ipython",
        "version": 3
      },
      "file_extension": ".py",
      "mimetype": "text/x-python",
      "name": "python",
      "nbconvert_exporter": "python",
      "pygments_lexer": "ipython3",
      "version": "3.11.0"
    },
    "colab": {
      "provenance": []
    }
  },
  "nbformat": 4,
  "nbformat_minor": 5
}